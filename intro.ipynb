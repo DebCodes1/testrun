{
 "cells": [
  {
   "cell_type": "code",
   "execution_count": 9,
   "id": "932bbfe8",
   "metadata": {},
   "outputs": [
    {
     "data": {
      "text/plain": [
       "8"
      ]
     },
     "execution_count": 9,
     "metadata": {},
     "output_type": "execute_result"
    }
   ],
   "source": [
    "60//7"
   ]
  },
  {
   "cell_type": "code",
   "execution_count": 11,
   "id": "5cb87cdf",
   "metadata": {},
   "outputs": [
    {
     "name": "stdout",
     "output_type": "stream",
     "text": [
      "8 weeks and 4 days\n"
     ]
    }
   ],
   "source": [
    "print(60//7, 'weeks and', 60%7, 'days' )"
   ]
  },
  {
   "cell_type": "code",
   "execution_count": 2,
   "id": "cefa4721",
   "metadata": {},
   "outputs": [
    {
     "name": "stdout",
     "output_type": "stream",
     "text": [
      "4\n"
     ]
    }
   ],
   "source": [
    "print(60%7)"
   ]
  },
  {
   "cell_type": "code",
   "execution_count": 3,
   "id": "e525520e",
   "metadata": {},
   "outputs": [
    {
     "name": "stdout",
     "output_type": "stream",
     "text": [
      "0.30000000000000004\n"
     ]
    }
   ],
   "source": [
    "print(0.1+0.1+0.1)"
   ]
  },
  {
   "cell_type": "code",
   "execution_count": 4,
   "id": "e8cee651",
   "metadata": {},
   "outputs": [
    {
     "name": "stdout",
     "output_type": "stream",
     "text": [
      "hey you 'girl'\n"
     ]
    }
   ],
   "source": [
    "print(\"hey you 'girl'\")"
   ]
  },
  {
   "cell_type": "code",
   "execution_count": 5,
   "id": "289d2f16",
   "metadata": {},
   "outputs": [
    {
     "name": "stdout",
     "output_type": "stream",
     "text": [
      "I'm good\n"
     ]
    }
   ],
   "source": [
    "print(\"I'm good\")"
   ]
  },
  {
   "cell_type": "code",
   "execution_count": 7,
   "id": "0bc99b78",
   "metadata": {},
   "outputs": [
    {
     "name": "stdout",
     "output_type": "stream",
     "text": [
      "I'm good 'girl'\n"
     ]
    }
   ],
   "source": [
    "print(\"I\\'m good 'girl'\")"
   ]
  },
  {
   "cell_type": "code",
   "execution_count": 11,
   "id": "f1518da2",
   "metadata": {},
   "outputs": [
    {
     "name": "stdout",
     "output_type": "stream",
     "text": [
      "This is really a long piece of t use it for practice\n"
     ]
    }
   ],
   "source": [
    "test = \"This is really a long piece of text and we are going use it for practice\"\n",
    "print(test[:32] + test[52:])"
   ]
  },
  {
   "cell_type": "code",
   "execution_count": 16,
   "id": "9af9d4e1",
   "metadata": {},
   "outputs": [
    {
     "name": "stdout",
     "output_type": "stream",
     "text": [
      "Name \tSex\n",
      "Deorah\tFemale\n",
      "Joshua\tMale\n",
      "\n"
     ]
    }
   ],
   "source": [
    "f = open('test.txt')\n",
    "file_data = f.read()\n",
    "f.close()\n",
    "\n",
    "print(file_data)"
   ]
  },
  {
   "cell_type": "code",
   "execution_count": 18,
   "id": "79def2e1",
   "metadata": {},
   "outputs": [
    {
     "name": "stdout",
     "output_type": "stream",
     "text": [
      "~Version Information\n",
      " VERS.                2.00:   CWLS log ASCII Standard -VERSION 2.00\n",
      " WRAP.                  NO:   One line per frame      \n",
      "~Well Information Block\n",
      "#MNEM.UNIT                  Well Data                   Data Description\n",
      "#----.----   ----------------------------------------   -------------------------------\n",
      " STRT.FT                                     3350.000 : Starting Depth\n",
      " STOP.FT                                     6357.000 : Ending Depth\n",
      " STEP.FT                                        0.250 : Level Spacing\n",
      " NULL.                                      -999.2500 : Absent Value\n",
      " COMP.       CONOIL                                   : Company\n",
      " WELL.       OSARI_3                                  : Well\n",
      " FLD .       OSAR1                                    : Field\n",
      " LOC .                                                : Location\n",
      " CNTY.       OSARI                                    : County\n",
      " STAT.       DELTA                                    : State\n",
      " CTRY.       NIGERIA                                  : Country\n",
      " SRVC.       Baker Hughes                             : Service Company\n",
      " DATE.       Wed Jul 19 08:57:46 2023 Z+1             : Log Date\n",
      " API .                                                : API Number\n",
      " UWI .                                                : Unique Well ID\n",
      "~Curve Information Block\n",
      "#MNEM    .UNIT        API Codes     Curve Description\n",
      "#--------.--------   ------------   ---------------------------------------------------\n",
      "50\n",
      "\n"
     ]
    }
   ],
   "source": [
    "f = open('MAINLOG2.las')\n",
    "file_data2 = f.read()\n",
    "f.close()\n",
    "\n",
    "print(file_data2)"
   ]
  },
  {
   "cell_type": "code",
   "execution_count": 26,
   "id": "6e6eb285",
   "metadata": {},
   "outputs": [
    {
     "name": "stdout",
     "output_type": "stream",
     "text": [
      "233168\n"
     ]
    }
   ],
   "source": [
    "sum = 0\n",
    "for multiple in range(1000):\n",
    "    if multiple%3 == 0 or multiple%5 == 0:\n",
    "        sum += multiple\n",
    "        multiple+=1\n",
    "print(sum)"
   ]
  },
  {
   "cell_type": "code",
   "execution_count": null,
   "id": "bb850e1d",
   "metadata": {},
   "outputs": [],
   "source": [
    "    "
   ]
  },
  {
   "cell_type": "code",
   "execution_count": 38,
   "id": "9af2940b",
   "metadata": {},
   "outputs": [
    {
     "name": "stdout",
     "output_type": "stream",
     "text": [
      "['1', '2', '3', '4']\n"
     ]
    }
   ],
   "source": [
    "ages = [\"1\",\"2\",\"3\"]\n",
    "ages.append(\"4\")\n",
    "print(ages)"
   ]
  },
  {
   "cell_type": "code",
   "execution_count": null,
   "id": "fdc42798",
   "metadata": {},
   "outputs": [],
   "source": []
  },
  {
   "cell_type": "code",
   "execution_count": null,
   "id": "2ad5f251",
   "metadata": {},
   "outputs": [],
   "source": [
    "2+2"
   ]
  },
  {
   "cell_type": "code",
   "execution_count": null,
   "id": "7f33a65d",
   "metadata": {},
   "outputs": [],
   "source": []
  }
 ],
 "metadata": {
  "kernelspec": {
   "display_name": "Python 3 (ipykernel)",
   "language": "python",
   "name": "python3"
  },
  "language_info": {
   "codemirror_mode": {
    "name": "ipython",
    "version": 3
   },
   "file_extension": ".py",
   "mimetype": "text/x-python",
   "name": "python",
   "nbconvert_exporter": "python",
   "pygments_lexer": "ipython3",
   "version": "3.11.3"
  }
 },
 "nbformat": 4,
 "nbformat_minor": 5
}
